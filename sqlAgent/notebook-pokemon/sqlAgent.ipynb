{
 "cells": [
  {
   "cell_type": "markdown",
   "metadata": {},
   "source": [
    "### LLM agen to make SQL query"
   ]
  },
  {
   "cell_type": "code",
   "execution_count": 4,
   "metadata": {},
   "outputs": [],
   "source": [
    "OPEN_AI_API_KEY = input()"
   ]
  },
  {
   "cell_type": "code",
   "execution_count": 6,
   "metadata": {},
   "outputs": [],
   "source": [
    "from langchain.utilities import SQLDatabase\n",
    "from langchain.llms import OpenAI\n",
    "from langchain.agents import create_sql_agent\n",
    "from langchain.agents.agent_toolkits import SQLDatabaseToolkit\n",
    "from langchain.agents.agent_types import AgentType"
   ]
  },
  {
   "cell_type": "code",
   "execution_count": 3,
   "metadata": {},
   "outputs": [
    {
     "data": {
      "text/plain": [
       "['auth_group',\n",
       " 'auth_group_permissions',\n",
       " 'auth_permission',\n",
       " 'auth_user',\n",
       " 'auth_user_groups',\n",
       " 'auth_user_user_permissions',\n",
       " 'django_admin_log',\n",
       " 'django_content_type',\n",
       " 'django_migrations',\n",
       " 'django_session',\n",
       " 'info_pokemon']"
      ]
     },
     "execution_count": 3,
     "metadata": {},
     "output_type": "execute_result"
    }
   ],
   "source": [
    "db = SQLDatabase.from_uri(\"sqlite:///../django-api/db.sqlite3\")\n",
    "db.get_usable_table_names()"
   ]
  },
  {
   "cell_type": "code",
   "execution_count": 8,
   "metadata": {},
   "outputs": [],
   "source": [
    "llm = OpenAI(temperature=0, verbose=True, openai_api_key=OPEN_AI_API_KEY)"
   ]
  },
  {
   "cell_type": "code",
   "execution_count": 9,
   "metadata": {},
   "outputs": [],
   "source": [
    "agent_executor = create_sql_agent(\n",
    "    llm=llm,\n",
    "    toolkit=SQLDatabaseToolkit(db=db, llm=llm),\n",
    "    verbose=True,\n",
    "    agent_type=AgentType.ZERO_SHOT_REACT_DESCRIPTION,\n",
    ")"
   ]
  },
  {
   "cell_type": "code",
   "execution_count": 11,
   "metadata": {},
   "outputs": [
    {
     "name": "stdout",
     "output_type": "stream",
     "text": [
      "\n",
      "\n",
      "\u001b[1m> Entering new SQL Agent Executor chain...\u001b[0m\n",
      "\u001b[32;1m\u001b[1;3mAction: sql_db_list_tables\n",
      "Action Input: \u001b[0m\u001b[38;5;200m\u001b[1;3mauth_group, auth_group_permissions, auth_permission, auth_user, auth_user_groups, auth_user_user_permissions, django_admin_log, django_content_type, django_migrations, django_session, info_pokemon\u001b[0m\u001b[32;1m\u001b[1;3m I should query the schema of the info_pokemon table.\n",
      "Action: sql_db_schema\n",
      "Action Input: info_pokemon\u001b[0m\u001b[33;1m\u001b[1;3m\n",
      "CREATE TABLE info_pokemon (\n",
      "\theight REAL NOT NULL, \n",
      "\tcategory VARCHAR(10) NOT NULL, \n",
      "\tgenre VARCHAR(1) NOT NULL, \n",
      "\ttypes VARCHAR(255) NOT NULL, \n",
      "\tweaknesses VARCHAR(255) NOT NULL, \n",
      "\tname VARCHAR(255) NOT NULL, \n",
      "\tPRIMARY KEY (name)\n",
      ")\n",
      "\n",
      "/*\n",
      "3 rows from info_pokemon table:\n",
      "height\tcategory\tgenre\ttypes\tweaknesses\tname\n",
      "170.0\tSEED\tM\tPLANT\tFIRE\tBulbasaur\n",
      "50.0\tTURTLE\tM\tWATER\tPLANT\tSquirtle\n",
      "60.0\tLIZARD\tM\tFIRE\tWATER\tCharmander\n",
      "*/\u001b[0m\u001b[32;1m\u001b[1;3m I should query the info_pokemon table for the name of the pokemon with an electric type.\n",
      "Action: sql_db_query\n",
      "Action Input: SELECT name FROM info_pokemon WHERE types LIKE '%ELECTRIC%' LIMIT 10\u001b[0m\u001b[36;1m\u001b[1;3m[('Pikachu',)]\u001b[0m\u001b[32;1m\u001b[1;3m I now know the final answer\n",
      "Final Answer: Pikachu\u001b[0m\n",
      "\n",
      "\u001b[1m> Finished chain.\u001b[0m\n"
     ]
    },
    {
     "data": {
      "text/plain": [
       "'Pikachu'"
      ]
     },
     "execution_count": 11,
     "metadata": {},
     "output_type": "execute_result"
    }
   ],
   "source": [
    "agent_executor.run(\n",
    "    \"Which pokemon is of type electric?\"\n",
    ")"
   ]
  }
 ],
 "metadata": {
  "kernelspec": {
   "display_name": ".venv",
   "language": "python",
   "name": "python3"
  },
  "language_info": {
   "codemirror_mode": {
    "name": "ipython",
    "version": 3
   },
   "file_extension": ".py",
   "mimetype": "text/x-python",
   "name": "python",
   "nbconvert_exporter": "python",
   "pygments_lexer": "ipython3",
   "version": "3.12.3"
  }
 },
 "nbformat": 4,
 "nbformat_minor": 2
}
